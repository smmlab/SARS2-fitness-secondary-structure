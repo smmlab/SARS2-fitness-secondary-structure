{
 "cells": [
  {
   "cell_type": "code",
   "execution_count": 1,
   "metadata": {},
   "outputs": [
    {
     "name": "stdout",
     "output_type": "stream",
     "text": [
      "47 Partial\n",
      " 1 C  0  2 47  1\n",
      " 2 G  1  3 46  2\n",
      " 3 T  2  4 45  3\n",
      " 4 A  3  5  0  4\n",
      " 5 C  4  6 44  5\n",
      " 6 T  5  7 43  6\n",
      " 7 G  6  8 42  7\n",
      " 8 C  7  9 41  8\n",
      " 9 C  8 10 40  9\n",
      "10 A  9 11  0 10\n",
      "11 C 10 12  0 11\n",
      "12 T 11 13  0 12\n",
      "13 A 12 14 38 13\n",
      "14 A 13 15 37 14\n",
      "15 A 14 16 36 15\n",
      "16 G 15 17 35 16\n",
      "17 C 16 18 34 17\n",
      "18 A 17 19  0 18\n",
      "19 T 18 20  0 19\n",
      "20 A 19 21  0 20\n",
      "21 C 20 22  0 21\n",
      "22 A 21 23  0 22\n",
      "23 A 22 24  0 23\n",
      "24 T 23 25  0 24\n",
      "25 G 24 26  0 25\n",
      "26 T 25 27  0 26\n",
      "27 A 26 28  0 27\n",
      "28 A 27 29  0 28\n",
      "29 C 28 30  0 29\n",
      "30 A 29 31  0 30\n",
      "31 C 30 32  0 31\n",
      "32 A 31 33  0 32\n",
      "33 A 32 34  0 33\n",
      "34 G 33 35 17 34\n",
      "35 C 34 36 16 35\n",
      "36 T 35 37 15 36\n",
      "37 T 36 38 14 37\n",
      "38 T 37 39 13 38\n",
      "39 C 38 40  0 39\n",
      "40 G 39 41  9 40\n",
      "41 G 40 42  8 41\n",
      "42 C 41 43  7 42\n",
      "43 A 42 44  6 43\n",
      "44 G 43 45  5 44\n",
      "45 A 44 46  3 45\n",
      "46 C 45 47  2 46\n",
      "47 G 46 48  1 47\n"
     ]
    }
   ],
   "source": [
    "# Make a partial ct file in order to visualize local secondary structure\n",
    "\n",
    "import pandas as pd\n",
    "\n",
    "df = pd.read_csv('../data/sars2-secondary-structure/Lan2022/41467_2022_28603_MOESM11_ESM.txt',skiprows=1,header=None,delim_whitespace=True)\n",
    "\n",
    "first_nt = 29057\n",
    "last_nt = 29103\n",
    "\n",
    "df[0] = df[0] - first_nt + 1\n",
    "df[2] = df[2] - first_nt + 1\n",
    "df[3] = df[3] - first_nt + 1\n",
    "df.loc[df[4]>0,4] = df[4][df[4]>0] - first_nt + 1\n",
    "df[5] = df[5] - first_nt + 1\n",
    "\n",
    "print(last_nt-first_nt+1,'Partial')\n",
    "print(df[29056:29103].to_string(index=False,header=False))"
   ]
  }
 ],
 "metadata": {
  "kernelspec": {
   "display_name": "datascience",
   "language": "python",
   "name": "python3"
  },
  "language_info": {
   "codemirror_mode": {
    "name": "ipython",
    "version": 3
   },
   "file_extension": ".py",
   "mimetype": "text/x-python",
   "name": "python",
   "nbconvert_exporter": "python",
   "pygments_lexer": "ipython3",
   "version": "3.12.1"
  }
 },
 "nbformat": 4,
 "nbformat_minor": 2
}
