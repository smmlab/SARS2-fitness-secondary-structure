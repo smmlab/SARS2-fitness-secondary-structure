{
 "cells": [
  {
   "cell_type": "code",
   "execution_count": 39,
   "metadata": {},
   "outputs": [],
   "source": [
    "# read in dot plot file and convert to ct format\n",
    "\n",
    "import operator\n",
    "\n",
    "def rindex(lst, value):\n",
    "    return len(lst) - operator.indexOf(reversed(lst), value) - 1\n",
    "\n",
    "fpath = '../data/sars2-secondary-structure/Manfredonia2020/Structure_models/SHAPE_invivo/structures/SARS-CoV-2.db'\n",
    "\n",
    "with open(fpath) as f:\n",
    "    lines = [line.rstrip('\\n') for line in f]\n",
    "\n",
    "temp_seq = list(lines[2][:len(lines[1])])\n",
    "paired_base = [0 for i in temp_seq]\n",
    "\n",
    "while '(' in temp_seq:\n",
    "\n",
    "    right_idx = temp_seq.index(')')\n",
    "    left_idx = rindex(temp_seq[0:right_idx],'(')\n",
    "\n",
    "    paired_base[left_idx] = right_idx+1\n",
    "    paired_base[right_idx] = left_idx+1\n",
    "\n",
    "    temp_seq[left_idx] = 'x'\n",
    "    temp_seq[right_idx] = 'x'"
   ]
  },
  {
   "cell_type": "code",
   "execution_count": 34,
   "metadata": {},
   "outputs": [],
   "source": [
    "# write ct file\n",
    "\n",
    "fpath = '../data/sars2-secondary-structure/Manfredonia2020/Structure_models/SHAPE_invivo/structures/SARS-CoV-2.ct'\n",
    "\n",
    "with open(fpath, 'w') as f:\n",
    "    \n",
    "    # title string\n",
    "    f.write(str(len(lines[1])).rjust(6) + ' ' + lines[0][1:] + '\\n')\n",
    "    \n",
    "    # ct data\n",
    "    for i in range(len(lines[1])):\n",
    "        f.write(str(i+1).rjust(6) + ' ' + lines[1][i] + \n",
    "                str(i).rjust(6) +\n",
    "                str(i+2).rjust(6) +\n",
    "                str(paired_base[i]).rjust(6) +\n",
    "                str(i+1).rjust(6) + '\\n')"
   ]
  }
 ],
 "metadata": {
  "kernelspec": {
   "display_name": "datascience",
   "language": "python",
   "name": "python3"
  },
  "language_info": {
   "codemirror_mode": {
    "name": "ipython",
    "version": 3
   },
   "file_extension": ".py",
   "mimetype": "text/x-python",
   "name": "python",
   "nbconvert_exporter": "python",
   "pygments_lexer": "ipython3",
   "version": "3.12.1"
  }
 },
 "nbformat": 4,
 "nbformat_minor": 2
}
